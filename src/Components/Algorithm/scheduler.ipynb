{
 "cells": [
  {
   "cell_type": "code",
   "execution_count": 6,
   "metadata": {},
   "outputs": [],
   "source": [
    "import numpy as np\n",
    "import json\n",
    "import os\n",
    "import ReadJson\n",
    "import itertools\n",
    "import math\n",
    "import RunAlgo"
   ]
  },
  {
   "cell_type": "code",
   "execution_count": 16,
   "metadata": {},
   "outputs": [],
   "source": [
    "file='../test/employeeList4.json'"
   ]
  },
  {
   "cell_type": "code",
   "execution_count": 17,
   "metadata": {},
   "outputs": [],
   "source": [
    "employees = ReadJson.ReadJson(file)"
   ]
  },
  {
   "cell_type": "code",
   "execution_count": 9,
   "metadata": {},
   "outputs": [],
   "source": [
    "optimalcombo, mincost = RunAlgo.RunAlgo(employees)"
   ]
  },
  {
   "cell_type": "code",
   "execution_count": 10,
   "metadata": {},
   "outputs": [
    {
     "name": "stdout",
     "output_type": "stream",
     "text": [
      "username:  F\n",
      "priority:  6\n",
      "preference:  1\n",
      "---------\n",
      "username:  G\n",
      "priority:  7\n",
      "preference:  2\n",
      "---------\n",
      "username:  D\n",
      "priority:  4\n",
      "preference:  1\n",
      "---------\n",
      "username:  C\n",
      "priority:  3\n",
      "preference:  1\n",
      "---------\n",
      "username:  B\n",
      "priority:  2\n",
      "preference:  1\n",
      "---------\n",
      "username:  A\n",
      "priority:  1\n",
      "preference:  1\n",
      "---------\n",
      "username:  E\n",
      "priority:  5\n",
      "preference:  1\n",
      "---------\n"
     ]
    }
   ],
   "source": [
    "for idx, emp in enumerate(optimalcombo):\n",
    "    print('username: ', emp.username)\n",
    "    print('priority: ', emp.priority)\n",
    "    print('preference: ', emp.preference[idx])\n",
    "    print('---------')"
   ]
  },
  {
   "cell_type": "code",
   "execution_count": 6,
   "metadata": {},
   "outputs": [
    {
     "data": {
      "text/plain": [
       "40"
      ]
     },
     "execution_count": 6,
     "metadata": {},
     "output_type": "execute_result"
    }
   ],
   "source": [
    "'''\n",
    "For JSON List 3: \n",
    "Our Algorithm Cost = 70\n",
    "Seniority Cost = 78\n",
    "G would get first pick, 7^1 X _ _ _ _ _ _\n",
    "F would get his second pick, 6^2 X _ _ _ _ _ X\n",
    "E would get next, second pick, 5^2 X X _ _ _ _ X\n",
    "D would get next, first pick, 4^1 X X X _ _ _ X\n",
    "C would get next, first pick, 3^1 X X X X _ _ X\n",
    "B would get next, first pick, 2^1 X X X X X _ X\n",
    "A would get next, first pick, 1^1 X X X X X X X \n",
    "Cost = \n",
    "\n",
    "\n",
    "\n",
    "\n",
    "'''"
   ]
  },
  {
   "cell_type": "code",
   "execution_count": null,
   "metadata": {},
   "outputs": [],
   "source": [
    "'''\n",
    "For JSON List 3: \n",
    "Our Algorithm Cost = 70\n",
    "Seniority Cost = 732\n",
    "G would get first pick, 7^1 X _ _ _ _ _ _\n",
    "F would get his second pick, 6^2 X _ _ _ _ _ X\n",
    "E would get next, third pick, 5^3 X _ X _ _ _ X\n",
    "D would get next, fourth pick, 4^4 X _ X X _ _ X\n",
    "C would get next, fifth pick, 3^5 X _ X X X _ X\n",
    "B would get next, sixth pick, 2^6 X _ X X X X X\n",
    "A would get next, seventh pick, 1^7 X X X X X X X \n",
    "Cost = \n",
    "\n",
    "\n",
    "\n",
    "\n",
    "'''"
   ]
  },
  {
   "cell_type": "code",
   "execution_count": 11,
   "metadata": {},
   "outputs": [
    {
     "data": {
      "text/plain": [
       "[<ReadJson.employee at 0x10f52f748>,\n",
       " <ReadJson.employee at 0x10f52f4a8>,\n",
       " <ReadJson.employee at 0x10f52f630>,\n",
       " <ReadJson.employee at 0x10f52f588>,\n",
       " <ReadJson.employee at 0x10f52f4e0>,\n",
       " <ReadJson.employee at 0x1084a5c50>,\n",
       " <ReadJson.employee at 0x10f52f710>]"
      ]
     },
     "execution_count": 11,
     "metadata": {},
     "output_type": "execute_result"
    }
   ],
   "source": [
    "optimalcombo"
   ]
  },
  {
   "cell_type": "code",
   "execution_count": 14,
   "metadata": {},
   "outputs": [],
   "source": [
    "data = []\n",
    "for employee in optimalcombo:\n",
    "    data.append({\n",
    "        'username':employee.username,\n",
    "        'priority':str(employee.priority),\n",
    "        'timeRequest': employee.preference\n",
    "    })"
   ]
  },
  {
   "cell_type": "code",
   "execution_count": 24,
   "metadata": {},
   "outputs": [],
   "source": [
    "outfile = file.split('.json')[0]+'_optimal'+'.json'\n",
    "with open(outfile, 'w') as out:\n",
    "    json.dump(data, out, indent=4)"
   ]
  },
  {
   "cell_type": "code",
   "execution_count": 23,
   "metadata": {},
   "outputs": [
    {
     "data": {
      "text/plain": [
       "'../test/employeeList4_optimal.json'"
      ]
     },
     "execution_count": 23,
     "metadata": {},
     "output_type": "execute_result"
    }
   ],
   "source": [
    "file.split('.json')[0]+'_optimal'+'.json'"
   ]
  },
  {
   "cell_type": "code",
   "execution_count": null,
   "metadata": {},
   "outputs": [],
   "source": []
  }
 ],
 "metadata": {
  "kernelspec": {
   "display_name": "Python 3",
   "language": "python",
   "name": "python3"
  },
  "language_info": {
   "codemirror_mode": {
    "name": "ipython",
    "version": 3
   },
   "file_extension": ".py",
   "mimetype": "text/x-python",
   "name": "python",
   "nbconvert_exporter": "python",
   "pygments_lexer": "ipython3",
   "version": "3.6.7"
  }
 },
 "nbformat": 4,
 "nbformat_minor": 2
}
